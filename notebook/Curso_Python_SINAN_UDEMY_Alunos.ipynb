{
  "cells": [
    {
      "cell_type": "markdown",
      "metadata": {
        "id": "NFN0jC5pfqYa"
      },
      "source": [
        "# Introdução ao Google Colaboratory\n",
        "Fazer uma pequena introdução sobre esta plataforma\n",
        "\n",
        "https://colab.research.google.com/notebooks/intro.ipynb"
      ]
    },
    {
      "cell_type": "markdown",
      "metadata": {
        "id": "vs77yufnfu8p"
      },
      "source": [
        "#Objetivo do curso\n",
        "\n",
        "A ideia do curso é conseguir abrir arquivos do tipo **DBC**, o formato padrão do SINAN, transformando em uma tabela, convertendo as codificações de acordo com o dicionário de dados.  \n",
        "\n",
        "Vamos analisar as notificações de Acidentes com Animais Peçonhentos, disponibilizados pelo DATASUS através do link ftp://ftp.datasus.gov.br/dissemin/publicos/SINAN/DADOS/, onde há uma série de bancos de dados disponíveis.\n",
        "\n",
        "Ao final do curso, teremos um notebook de transformação e análise de dados, que poderá ser adaptado para outros arquivos que estão disponíveis a partir do SINAN.\n",
        "\n"
      ]
    },
    {
      "cell_type": "markdown",
      "metadata": {
        "id": "U6I6l4alhXkN"
      },
      "source": [
        "#Importação de bibliotecas\n",
        "\n",
        "Após instalada a biblioteca, temos que importar a biblioteca que iremos utilizar neste primeiro momento:\n",
        "* Pandas - biblioteca padrão para análise de dados no Python"
      ]
    },
    {
      "cell_type": "code",
      "execution_count": null,
      "metadata": {
        "id": "cNYjX0OKvADg"
      },
      "outputs": [],
      "source": [
        "import pandas as pd"
      ]
    },
    {
      "cell_type": "markdown",
      "metadata": {
        "id": "aHv0y9kBh8yC"
      },
      "source": [
        "---\n",
        "**OBS: a célula abaixo é necessária para que possamos visualizar toda a tabela na tela**"
      ]
    },
    {
      "cell_type": "code",
      "execution_count": null,
      "metadata": {
        "id": "Eb_s9-CCiB2a"
      },
      "outputs": [],
      "source": [
        "pd.options.display.max_columns = None "
      ]
    },
    {
      "cell_type": "markdown",
      "metadata": {
        "id": "krrYnudNiD6W"
      },
      "source": [
        "---\n",
        "\n",
        "\n",
        "\n",
        "\n",
        "\n",
        "\n",
        "\n"
      ]
    },
    {
      "cell_type": "markdown",
      "metadata": {
        "id": "9v84FRYgitxs"
      },
      "source": [
        "#Buscando e acessando o arquivo dbc do curso\n",
        "\n",
        "Após baixar o arquivo DBC, utilizaremos o programa TabWin para transformar os dados em CSV, formato mais usual e simples de trabalhar.\n",
        "\n",
        "O TabWin pode ser baixado através do link: https://datasus.saude.gov.br/transferencia-de-arquivos/\n",
        "\n",
        "Seleciona-se:\n",
        " * Fonte: *Aplicativos - TABWIN/TABNET - Ferrmaentas para tabulação de dados*\n",
        " * Modalidade: *Programas*\n",
        " * Tipo de arquivo: *TABWIN*\n",
        "\n",
        " E clica-se em **Enviar**, assim, um arquivo será disponibilizado e iremos clicar em *Download*. O site irá recarregar e um link chamado *arquivo.zip* https://datasus.saude.gov.br/wp-content/zipupload/Arq_557211626/arquivo.zip \n",
        "\n",
        "\n",
        "\n"
      ]
    },
    {
      "cell_type": "markdown",
      "metadata": {
        "id": "tIqrXYTLuoN-"
      },
      "source": [
        "A biblioteca Pandas será usada para transformarmos o arquivo CSV em uma tabela legível."
      ]
    },
    {
      "cell_type": "code",
      "execution_count": null,
      "metadata": {
        "id": "pVz62HZt9oj-"
      },
      "outputs": [],
      "source": []
    },
    {
      "cell_type": "markdown",
      "metadata": {
        "id": "BdEd75Lgvx-l"
      },
      "source": [
        "#Conversão baseado no Dicionário de Dados do SINAN"
      ]
    },
    {
      "cell_type": "markdown",
      "metadata": {
        "id": "xuljHaKnhxtr"
      },
      "source": [
        "Quais colunas vamos manter? Quais colunas vamos tirar?\n",
        "\n",
        "Para responder estas perguntas, olhamos os dicionários de dados, os quais estão presentes nos seguintes links:\n",
        "\n",
        "* http://portalsinan.saude.gov.br/acidente-por-animais-peconhentos - site do SINAN para animais peçonhentos\n",
        "\n",
        "\n",
        "* http://portalsinan.saude.gov.br/images/documentos/Agravos/Notificacao_Individual/DIC_DADOS_NET---Notificao-Individual_rev.pdf - dicionário de dados para notificação individual, que são horizontais em todas as fichas do SINAN\n",
        "\n",
        "* http://portalsinan.saude.gov.br/images/documentos/Agravos/AAP/DIC_DADOS_Animais_Pedonhentos_v5.pdf - dicionário de dados específico para acidentes com animais peçonhentos"
      ]
    },
    {
      "cell_type": "markdown",
      "metadata": {
        "id": "glhCm2mb4ZNb"
      },
      "source": [
        "Vamos pegar a lista de colunas que temos na nossa tabela, utilizando o comando **.columns** depois da nossa tabela."
      ]
    },
    {
      "cell_type": "code",
      "execution_count": null,
      "metadata": {
        "id": "M759UKq0hieE"
      },
      "outputs": [],
      "source": []
    },
    {
      "cell_type": "markdown",
      "metadata": {
        "id": "BK0c7eHe5cek"
      },
      "source": [
        "Dentre as colunas acima, devemos escolher quais devemos MANTER, copiando a lista gerada na célula anterior, e apagando o nome daquelas que não queremos."
      ]
    },
    {
      "cell_type": "code",
      "execution_count": null,
      "metadata": {
        "id": "hwLVZgt6h0EL"
      },
      "outputs": [],
      "source": []
    },
    {
      "cell_type": "markdown",
      "metadata": {
        "id": "4ehg-dQu-O8H"
      },
      "source": [
        "Assim, utilizamos esta lista entre colchetes, ao lado do nome da nossa tabela, atribuindo um novo nome, ou substituindo a mesma."
      ]
    },
    {
      "cell_type": "code",
      "execution_count": null,
      "metadata": {
        "id": "Irq4XLQN-MFo"
      },
      "outputs": [],
      "source": []
    },
    {
      "cell_type": "markdown",
      "metadata": {
        "id": "Aemz7gx3_AZp"
      },
      "source": [
        "##Recodificação dos dados\n",
        "\n",
        "Um dos grandes problemas dos arquivos *DBF* é a codificação das variáveis. Simplesmente abrir o arquivo não traz informações claras, pois acabamos tendo que recorrer ao Dicionário de Dados daquele arquivo. Com o *Python*, conseguimos recodificar as colunas, escrevendo o dicionário de dados para cada uma. É um trabalho que leva algum tempo, porém, precisamos fazê-lo somente uma vez e depois já estará pronto.\n"
      ]
    },
    {
      "cell_type": "markdown",
      "metadata": {
        "id": "739LEsOMx-gO"
      },
      "source": [
        "Avaliando o dicionário de dados, percebemos que muitas variáveis apresentam apenas o **SIM** e o **NÃO**. Para essas, faremos apenas um mini dicionário e aplicaremos a função **REPLACE**, que vai substituir os valores encontrados na tabela por aqueles vistos no dicionário.\n",
        "\n",
        "Utilizaremos uma coluna como exemplo, e depois aplicamos para as demais."
      ]
    },
    {
      "cell_type": "code",
      "execution_count": null,
      "metadata": {
        "id": "1Z0dF_8Jwvt2"
      },
      "outputs": [],
      "source": []
    },
    {
      "cell_type": "markdown",
      "metadata": {
        "id": "Q8-f_PalREEu"
      },
      "source": [
        "Agora, criaremos uma lista com as colunas que possuem codificação de **SIM/NÃO**, e aplicaremos uma das funções mais úteis do *Python*, o loop de repetição chamado de **FOR**.\n",
        "\n",
        "Essa função nos permite aplicar diversas vezes a mesma operação, alterando apenas um parâmetro."
      ]
    },
    {
      "cell_type": "code",
      "execution_count": null,
      "metadata": {
        "id": "kKodthi1-gOs"
      },
      "outputs": [],
      "source": []
    },
    {
      "cell_type": "markdown",
      "metadata": {
        "id": "-4bvf3udu7Nl"
      },
      "source": [
        "Algumas são do tipo DATA, então vamos alterar para este formato"
      ]
    },
    {
      "cell_type": "code",
      "execution_count": null,
      "metadata": {
        "id": "fNZCXFTnuIYb"
      },
      "outputs": [],
      "source": []
    },
    {
      "cell_type": "markdown",
      "metadata": {
        "id": "E9n6CYY9P6tX"
      },
      "source": [
        "Agora vem a parte mais trabalhosa, onde temos que reescrever todas as codificações do dicionário de dados.\n",
        "\n",
        "Em outras palavras, criaremos vários dicionários a partir do dicionário do SINAN."
      ]
    },
    {
      "cell_type": "code",
      "execution_count": null,
      "metadata": {
        "id": "MwHEMgBev5va"
      },
      "outputs": [],
      "source": []
    },
    {
      "cell_type": "markdown",
      "metadata": {
        "id": "udsgI7MOxsM7"
      },
      "source": [
        "A coluna de **IDADE** é um pouco diferente. O SINAN utiliza uma decodificação neste formato:\n",
        "A composição da variável\n",
        "obedece o seguinte critério: primeiro dígito:\n",
        "1. Hora\n",
        "2. Dia\n",
        "3. Mês\n",
        "4. Ano\n",
        "\n",
        "*Exemplos*:\n",
        " * 3009 – nove meses\n",
        " * 4018 – dezoito anos\n",
        "\n",
        "Assim, como apenas nos interessa a idade em anos, diminuiremos todos os números por 4000. Caso o resultado for negativo, deixamos como zero."
      ]
    },
    {
      "cell_type": "code",
      "execution_count": null,
      "metadata": {
        "id": "jm5Q4Rysxp73"
      },
      "outputs": [],
      "source": []
    },
    {
      "cell_type": "markdown",
      "metadata": {
        "id": "ZUj9261_yi2O"
      },
      "source": [
        "##Código do IBGE para nome de município\n",
        "\n",
        "Da mesma maneira que utilizamos um dicionário e a função *replace* para alterar elementos no DataFrame, faremos o mesmo para transformar os códigos de IBGE em nomes de municípios, utilizando a função *map*.\n",
        "\n",
        "Primeiramente, precisamos de uma tabela onde esta conversão já esteja pronta. Por sorte, aquele que vos escreve já o fez e colocou um link no *Github* para baixá-lo. ✌"
      ]
    },
    {
      "cell_type": "code",
      "execution_count": null,
      "metadata": {
        "id": "9QZ46Iiwyffm"
      },
      "outputs": [],
      "source": []
    },
    {
      "cell_type": "markdown",
      "metadata": {
        "id": "3-fXViIz0yns"
      },
      "source": [
        "Porém, para convertê-lo em dicionário, precisamos realizar algumas alterações, como transformar o código do IBGE em tipo *texto* (*string*), deixar apenas duas colunas (IBGE6 e Municipio), e setar a coluna IBGE6 como index."
      ]
    },
    {
      "cell_type": "code",
      "execution_count": null,
      "metadata": {
        "id": "jgD_3G3Q0t-_"
      },
      "outputs": [],
      "source": []
    },
    {
      "cell_type": "markdown",
      "metadata": {
        "id": "37uGK99U1Efm"
      },
      "source": [
        "Agora, basta utilizar a função **to_dict()** e teremos o nosso dicionário"
      ]
    },
    {
      "cell_type": "code",
      "execution_count": null,
      "metadata": {
        "id": "4jIA1U_eyePI"
      },
      "outputs": [],
      "source": []
    },
    {
      "cell_type": "markdown",
      "metadata": {
        "id": "GUd9EU_G1Mi6"
      },
      "source": [
        "Para transformar os dados, agora vamos utilizar a função *map*. Pode surgir a dúvida: **\"Por que aqui utilizamos o map e antes utilizamos o replace? Existe diferença?\"**\n",
        "\n",
        "Respondendo: O map é uma função que, caso o valor não esteja no dicionário, ele se transforma em *NaN*, fazendo com que percamos aquele dado, porém, ela é 60 vezes mais rápida do que o replace, então ganhamos tempo quando o dicionário possui mais de 5000 valores.\n",
        "\n",
        "Assim, convertemos as duas colunas que onde temos os códigos do IBGE (ID_MUNICIP, ID_MN_RESI e ANT_MUNIC_)."
      ]
    },
    {
      "cell_type": "code",
      "execution_count": null,
      "metadata": {
        "id": "mQfrVCWO1cLQ"
      },
      "outputs": [],
      "source": []
    },
    {
      "cell_type": "markdown",
      "metadata": {
        "id": "LFnnyzzQtVuB"
      },
      "source": [
        "Da mesma maneira, é possível alterar a codificação da OCUPAÇÃO"
      ]
    },
    {
      "cell_type": "code",
      "execution_count": null,
      "metadata": {
        "id": "It8M6tyftc4E"
      },
      "outputs": [],
      "source": []
    },
    {
      "cell_type": "markdown",
      "metadata": {
        "id": "68V7udHm2ioT"
      },
      "source": [
        "Chegou a hora de alterar também a codificação da UF para a sua respectiva sigla, da mesma maneira como fizemos para os municípios."
      ]
    },
    {
      "cell_type": "code",
      "execution_count": null,
      "metadata": {
        "id": "HuI8lcWx7-lK"
      },
      "outputs": [],
      "source": []
    },
    {
      "cell_type": "markdown",
      "metadata": {
        "id": "t1OiQdOcEAu6"
      },
      "source": [
        "#Renomeando as colunas\n",
        "\n",
        "Outro problema bastante comum que sentimos ao visualizar um arquivo *DBF* do SINAN é o nome das colunas, que são outras codificações. Por isso, vamos renomeá-las, com uma função muito parecida com o que fizemos antes.\n",
        "\n",
        "Primeiramente, vamos coletar o nome de todas."
      ]
    },
    {
      "cell_type": "code",
      "execution_count": null,
      "metadata": {
        "id": "eFW6pVegFDis"
      },
      "outputs": [],
      "source": []
    },
    {
      "cell_type": "markdown",
      "metadata": {
        "id": "gopgatNEFL8N"
      },
      "source": [
        "Agora, copiamos e colamos esta lista, e vamos adaptando de maneira a criar um dicionário *(de novo)*."
      ]
    },
    {
      "cell_type": "code",
      "execution_count": null,
      "metadata": {
        "id": "GNe88Q_DFLhJ"
      },
      "outputs": [],
      "source": []
    },
    {
      "cell_type": "markdown",
      "metadata": {
        "id": "ucw4XTwKxCcv"
      },
      "source": [
        "Agora que temos o dicionário das colunas COMPLETO, utilizamos o comando de RENAME no nosso DataFrame, assim teremos ele organizado de maneira mais adequada."
      ]
    },
    {
      "cell_type": "code",
      "execution_count": null,
      "metadata": {
        "id": "veSRrT6lxLeU"
      },
      "outputs": [],
      "source": []
    },
    {
      "cell_type": "markdown",
      "metadata": {
        "id": "96JzeKo-YS84"
      },
      "source": [
        "#Exportação para CSV\n",
        "Vamos exportar o nosso DataFrame final para o Excel, caso haja a necessidade de visualizar os dados no programa. Esta operação demora um pouco."
      ]
    },
    {
      "cell_type": "code",
      "execution_count": null,
      "metadata": {
        "id": "_0Z8yo49bgST"
      },
      "outputs": [],
      "source": []
    }
  ],
  "metadata": {
    "colab": {
      "collapsed_sections": [],
      "provenance": []
    },
    "kernelspec": {
      "display_name": "Python 3",
      "name": "python3"
    },
    "language_info": {
      "name": "python"
    }
  },
  "nbformat": 4,
  "nbformat_minor": 0
}